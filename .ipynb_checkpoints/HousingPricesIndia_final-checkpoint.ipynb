{
 "cells": [
  {
   "cell_type": "markdown",
   "metadata": {
    "id": "U9Ez9dBDxyb0"
   },
   "source": [
    "#  **Housing Prices Analysis in Top Tier Cities in India**\n",
    "\n",
    "---\n",
    "\n"
   ]
  },
  {
   "cell_type": "markdown",
   "metadata": {
    "id": "EebMG_Bw--9q"
   },
   "source": [
    "## <pre> Mounting Google Drive into Google Colab </pre>"
   ]
  },
  {
   "cell_type": "code",
   "execution_count": 1,
   "metadata": {
    "id": "HD_ro2SPyFt9"
   },
   "outputs": [
    {
     "ename": "ModuleNotFoundError",
     "evalue": "No module named 'google.colab'",
     "output_type": "error",
     "traceback": [
      "\u001b[1;31m---------------------------------------------------------------------------\u001b[0m",
      "\u001b[1;31mModuleNotFoundError\u001b[0m                       Traceback (most recent call last)",
      "\u001b[1;32m~\\AppData\\Local\\Temp/ipykernel_26804/859145840.py\u001b[0m in \u001b[0;36m<module>\u001b[1;34m\u001b[0m\n\u001b[1;32m----> 1\u001b[1;33m \u001b[1;32mfrom\u001b[0m \u001b[0mgoogle\u001b[0m\u001b[1;33m.\u001b[0m\u001b[0mcolab\u001b[0m \u001b[1;32mimport\u001b[0m \u001b[0mdrive\u001b[0m\u001b[1;33m\u001b[0m\u001b[1;33m\u001b[0m\u001b[0m\n\u001b[0m",
      "\u001b[1;31mModuleNotFoundError\u001b[0m: No module named 'google.colab'"
     ]
    }
   ],
   "source": [
    "from google.colab import drive"
   ]
  },
  {
   "cell_type": "code",
   "execution_count": null,
   "metadata": {
    "colab": {
     "base_uri": "https://localhost:8080/"
    },
    "id": "cUzrtXXIyYjj",
    "outputId": "e604576f-bbe3-458b-9c81-05e21c6ac5c1"
   },
   "outputs": [],
   "source": [
    "drive.mount('/content/gdrive/')"
   ]
  },
  {
   "cell_type": "code",
   "execution_count": null,
   "metadata": {
    "colab": {
     "base_uri": "https://localhost:8080/"
    },
    "id": "CI-sI2TKymkH",
    "outputId": "a2eb59f1-4090-4505-81b7-9821e9ccf4a7"
   },
   "outputs": [],
   "source": [
    "!ls '/content/gdrive/My Drive/Projects/IndianHousingPrices/Data'"
   ]
  },
  {
   "cell_type": "markdown",
   "metadata": {
    "id": "iPJvwylx__xu"
   },
   "source": [
    "***"
   ]
  },
  {
   "cell_type": "markdown",
   "metadata": {
    "id": "e3bCveCR-8Ai"
   },
   "source": [
    "### <pre>Importing Required Libraries</pre>"
   ]
  },
  {
   "cell_type": "code",
   "execution_count": null,
   "metadata": {
    "id": "FR9NfiqhXLHw"
   },
   "outputs": [],
   "source": [
    "import warnings\n",
    "warnings.filterwarnings('ignore')"
   ]
  },
  {
   "cell_type": "code",
   "execution_count": null,
   "metadata": {
    "colab": {
     "base_uri": "https://localhost:8080/"
    },
    "id": "XeXCbKNwGWZG",
    "outputId": "31da3fee-88e9-4fed-f011-4e42816fab05"
   },
   "outputs": [],
   "source": [
    "pip install geopy"
   ]
  },
  {
   "cell_type": "code",
   "execution_count": null,
   "metadata": {
    "id": "G-cF2gCVxycI"
   },
   "outputs": [],
   "source": [
    "import numpy as np, pandas as pd\n",
    "import matplotlib.pyplot as plt\n",
    "import seaborn as sns\n",
    "\n",
    "from geopy.geocoders import Nominatim\n",
    "import folium\n",
    "from folium import plugins\n",
    "\n",
    "%matplotlib inline"
   ]
  },
  {
   "cell_type": "markdown",
   "metadata": {
    "id": "ZmEUAk4IAEx3"
   },
   "source": [
    "***"
   ]
  },
  {
   "cell_type": "markdown",
   "metadata": {
    "id": "xL3G_p9qCsoB"
   },
   "source": [
    "![Bangalore Image](https://media.giphy.com/media/LnWAqDfCpfPSmnedvT/giphy.gif)"
   ]
  },
  {
   "cell_type": "code",
   "execution_count": null,
   "metadata": {
    "id": "cMRtIjZ_xycJ"
   },
   "outputs": [],
   "source": [
    "bangalore_df = pd.read_csv('/content/gdrive/My Drive/Projects/IndianHousingPrices/Data/Bangalore.csv')"
   ]
  },
  {
   "cell_type": "code",
   "execution_count": null,
   "metadata": {
    "colab": {
     "base_uri": "https://localhost:8080/"
    },
    "id": "J4oW5I7-xycJ",
    "outputId": "d10be6af-f32c-4b58-f4a5-12699e788d04",
    "scrolled": true
   },
   "outputs": [],
   "source": [
    "bangalore_df.info()"
   ]
  },
  {
   "cell_type": "code",
   "execution_count": null,
   "metadata": {
    "colab": {
     "base_uri": "https://localhost:8080/",
     "height": 351
    },
    "id": "DavdhwdGxycL",
    "outputId": "16f7dfd3-fd43-4519-bf69-0e2cedc8ef64"
   },
   "outputs": [],
   "source": [
    "bangalore_df.sample(5)"
   ]
  },
  {
   "cell_type": "markdown",
   "metadata": {
    "id": "EZvRxUl9AJX5"
   },
   "source": [
    "***"
   ]
  },
  {
   "cell_type": "markdown",
   "metadata": {
    "id": "kja7mM1_qeBk"
   },
   "source": [
    "![Delhi Image](https://media.giphy.com/media/hSEwaRIfSa4np4l5d5/giphy.gif)"
   ]
  },
  {
   "cell_type": "code",
   "execution_count": null,
   "metadata": {
    "id": "a8PSHBUZqerw"
   },
   "outputs": [],
   "source": [
    "delhi_df = pd.read_csv('/content/gdrive/My Drive/Projects/IndianHousingPrices/Data/Delhi.csv')"
   ]
  },
  {
   "cell_type": "code",
   "execution_count": null,
   "metadata": {
    "colab": {
     "base_uri": "https://localhost:8080/"
    },
    "id": "0Ua2_aoDqerz",
    "outputId": "05ed4a0c-6c2c-4a71-f76c-5ee3643a2fe6",
    "scrolled": true
   },
   "outputs": [],
   "source": [
    "delhi_df.info()"
   ]
  },
  {
   "cell_type": "code",
   "execution_count": null,
   "metadata": {
    "colab": {
     "base_uri": "https://localhost:8080/",
     "height": 369
    },
    "id": "Yq1hKvBQqer0",
    "outputId": "92665922-7d32-4b3c-ca49-fa6e7084ecb2"
   },
   "outputs": [],
   "source": [
    "delhi_df.sample(5)"
   ]
  },
  {
   "cell_type": "markdown",
   "metadata": {
    "id": "QkzQaj08rdAo"
   },
   "source": [
    "***"
   ]
  },
  {
   "cell_type": "markdown",
   "metadata": {
    "id": "S7yNwdEvrFh2"
   },
   "source": [
    "![Mumbai Image](https://media.giphy.com/media/STrgyibuarMZKHDQms/giphy.gif)"
   ]
  },
  {
   "cell_type": "code",
   "execution_count": null,
   "metadata": {
    "id": "ZhsPjdiJrFh4"
   },
   "outputs": [],
   "source": [
    "mumbai_df = pd.read_csv('/content/gdrive/My Drive/Projects/IndianHousingPrices/Data/Mumbai.csv')"
   ]
  },
  {
   "cell_type": "code",
   "execution_count": null,
   "metadata": {
    "colab": {
     "base_uri": "https://localhost:8080/"
    },
    "id": "ruac7xp2rFh6",
    "outputId": "b62d34ac-687c-4ba4-ed0f-a27e4a6f636b",
    "scrolled": true
   },
   "outputs": [],
   "source": [
    "mumbai_df.info()"
   ]
  },
  {
   "cell_type": "code",
   "execution_count": null,
   "metadata": {
    "colab": {
     "base_uri": "https://localhost:8080/",
     "height": 386
    },
    "id": "v4-lZwv4rFh7",
    "outputId": "89727a3e-47b4-446b-db01-9a726eeb6707"
   },
   "outputs": [],
   "source": [
    "mumbai_df.sample(5)"
   ]
  },
  {
   "cell_type": "markdown",
   "metadata": {
    "id": "9Xrq6-NysIVg"
   },
   "source": [
    "<pre>We have imported Bangalore, Delhi & Mumbai Datasets, \n",
    "and it shows that there are some 40 variables/features in the data including the Price.</pre>"
   ]
  },
  {
   "cell_type": "markdown",
   "metadata": {
    "id": "MMy09DxssUMs"
   },
   "source": [
    "As per the Data Definition, `Price`, `Area`, `Location` & `Bedrooms` are Numerical/Continuous variables, rest all are Categorical Variables.\n",
    "But these Categorical variables have three types of values, <br>\n",
    "<code>0 = Particular facility is absent in the House</code><br>\n",
    "<code>1 = Particular facility is present in the House</code><br>\n",
    "<code>9 = No information is available for the variable, whether it is present or not</code>"
   ]
  },
  {
   "cell_type": "markdown",
   "metadata": {
    "id": "g6X9DsFtrILy"
   },
   "source": [
    "***"
   ]
  },
  {
   "cell_type": "markdown",
   "metadata": {
    "id": "pOWGfJ3arp5a"
   },
   "source": [
    "### <pre>Handling Missing Values</pre>"
   ]
  },
  {
   "cell_type": "code",
   "execution_count": null,
   "metadata": {
    "id": "0EYGZdhKxycM"
   },
   "outputs": [],
   "source": [
    "bangalore_df.replace(9,np.nan, inplace=True)\n",
    "delhi_df.replace(9,np.nan, inplace=True)\n",
    "mumbai_df.replace(9,np.nan, inplace=True)"
   ]
  },
  {
   "cell_type": "code",
   "execution_count": null,
   "metadata": {
    "id": "aT9zEB_bxycN"
   },
   "outputs": [],
   "source": [
    "bangalore_df.dropna(axis=0, inplace=True)\n",
    "delhi_df.dropna(axis=0, inplace=True)\n",
    "mumbai_df.dropna(axis=0, inplace=True)"
   ]
  },
  {
   "cell_type": "code",
   "execution_count": null,
   "metadata": {
    "colab": {
     "base_uri": "https://localhost:8080/"
    },
    "id": "q7-XcFWPxycO",
    "outputId": "88aaf511-f2b3-4394-8bac-0dd326638311",
    "scrolled": true
   },
   "outputs": [],
   "source": [
    "bangalore_df.info()"
   ]
  },
  {
   "cell_type": "code",
   "execution_count": null,
   "metadata": {
    "colab": {
     "base_uri": "https://localhost:8080/"
    },
    "id": "74ywgTjxr5rf",
    "outputId": "ecc304c2-b32c-47ac-f190-dba91eb4f0e7"
   },
   "outputs": [],
   "source": [
    "delhi_df.info()"
   ]
  },
  {
   "cell_type": "code",
   "execution_count": null,
   "metadata": {
    "colab": {
     "base_uri": "https://localhost:8080/"
    },
    "id": "LfxNL2UEr5LP",
    "outputId": "717cc241-a695-4631-9a16-de8ba54f47ed"
   },
   "outputs": [],
   "source": [
    "mumbai_df.info()"
   ]
  },
  {
   "cell_type": "markdown",
   "metadata": {
    "id": "5pUm_qnhuABT"
   },
   "source": [
    "We performed some Cleaning Process, and removed the Missing values,i.e. `9s` from all the categorical values, because it contains a big portion of the data as missing, so it cannot be imputed with majority category of the variable, it may impact the analysis.\n",
    "In order to do that we converted all `9s` to `NaN` values and removed those rows.\n",
    "As a result we are left with `1951` entries in Bangalore, `2002` entries in Delhi & `1398` entries in Mumbai Data to perform the further analysis."
   ]
  },
  {
   "cell_type": "markdown",
   "metadata": {
    "id": "r4ewmkvnAM-i"
   },
   "source": [
    "***"
   ]
  },
  {
   "cell_type": "markdown",
   "metadata": {
    "id": "mzyB5f6sv0eX"
   },
   "source": [
    "#### Variable Conversions"
   ]
  },
  {
   "cell_type": "code",
   "execution_count": null,
   "metadata": {
    "colab": {
     "base_uri": "https://localhost:8080/"
    },
    "id": "nJKjdICnxycP",
    "outputId": "9f329510-375b-4cb0-ee1b-50010a355410"
   },
   "outputs": [],
   "source": [
    "bangalore_df.columns"
   ]
  },
  {
   "cell_type": "code",
   "execution_count": null,
   "metadata": {
    "colab": {
     "base_uri": "https://localhost:8080/"
    },
    "id": "uJEu9zJVxycQ",
    "outputId": "f66c4837-352f-4f28-d6f3-f58c4b502167",
    "scrolled": true
   },
   "outputs": [],
   "source": [
    "NonFloatColumns = ['Price','Area','Location','No. of Bedrooms']\n",
    "ColumnsToConvert = []\n",
    "for col in bangalore_df.columns:\n",
    "    if col not in NonFloatColumns:\n",
    "        ColumnsToConvert.append(col)\n",
    "ColumnsToConvert"
   ]
  },
  {
   "cell_type": "markdown",
   "metadata": {
    "id": "Qd-LbwE-wCuW"
   },
   "source": [
    "While Handling Missing Values, we realized that the Categorical Variables(By Definition) are actually Numeric in nature, so we identified the list of all those columns and below we will convert them to required DataType, i.e. Object(String)"
   ]
  },
  {
   "cell_type": "code",
   "execution_count": null,
   "metadata": {
    "id": "L1udJYm2xycR"
   },
   "outputs": [],
   "source": [
    "bangalore_df[ColumnsToConvert] = bangalore_df[ColumnsToConvert].astype(str)\n",
    "delhi_df[ColumnsToConvert] = delhi_df[ColumnsToConvert].astype(str)\n",
    "mumbai_df[ColumnsToConvert] = mumbai_df[ColumnsToConvert].astype(str)"
   ]
  },
  {
   "cell_type": "code",
   "execution_count": null,
   "metadata": {
    "id": "2qSUUkUK1Qgb"
   },
   "outputs": [],
   "source": [
    "replace_dict = {'0':'No','1':'Yes','0.0':'No','1.0':'Yes'}\n",
    "bangalore_df[ColumnsToConvert] = bangalore_df[ColumnsToConvert].replace(replace_dict)\n",
    "delhi_df[ColumnsToConvert] = delhi_df[ColumnsToConvert].replace(replace_dict)\n",
    "mumbai_df[ColumnsToConvert] = mumbai_df[ColumnsToConvert].replace(replace_dict)"
   ]
  },
  {
   "cell_type": "code",
   "execution_count": null,
   "metadata": {
    "colab": {
     "base_uri": "https://localhost:8080/",
     "height": 386
    },
    "id": "om1apH2y1aSO",
    "outputId": "eb371683-9e8e-43d6-8ee6-8cb5f196e50a"
   },
   "outputs": [],
   "source": [
    "bangalore_df.head()"
   ]
  },
  {
   "cell_type": "code",
   "execution_count": null,
   "metadata": {
    "colab": {
     "base_uri": "https://localhost:8080/",
     "height": 403
    },
    "id": "IgCcxdGt1BLP",
    "outputId": "03d0afa0-28b6-4ac7-f7e3-cee4a9e59eb4"
   },
   "outputs": [],
   "source": [
    "delhi_df.head()"
   ]
  },
  {
   "cell_type": "code",
   "execution_count": null,
   "metadata": {
    "colab": {
     "base_uri": "https://localhost:8080/",
     "height": 317
    },
    "id": "T9fewny21At0",
    "outputId": "8c452b46-2f70-4006-ac89-39d3c6b79805"
   },
   "outputs": [],
   "source": [
    "mumbai_df.head()"
   ]
  },
  {
   "cell_type": "markdown",
   "metadata": {
    "id": "HKYzYp2e0W0l"
   },
   "source": [
    "***"
   ]
  },
  {
   "cell_type": "markdown",
   "metadata": {
    "id": "wEFsRvsTxn6J"
   },
   "source": [
    "#### Feature Scaling"
   ]
  },
  {
   "cell_type": "markdown",
   "metadata": {
    "id": "WVgANDjzwi80"
   },
   "source": [
    "`Price`, `Area` & `Bedrooms` are only Numerical Variables in our data, but they are not of same order, like Price is having very high values, so it is difficult to interpret them with `Area` & `Bedrooms` on plots. So we will take them on the same scale"
   ]
  },
  {
   "cell_type": "code",
   "execution_count": null,
   "metadata": {
    "id": "IYjV-R0xxycT"
   },
   "outputs": [],
   "source": [
    "# Converting Price to Tens of Lacs\n",
    "bangalore_df.Price = bangalore_df.Price/100000\n",
    "delhi_df.Price = delhi_df.Price/100000\n",
    "mumbai_df.Price = mumbai_df.Price/100000"
   ]
  },
  {
   "cell_type": "code",
   "execution_count": null,
   "metadata": {
    "id": "CTo3sug_xycU"
   },
   "outputs": [],
   "source": [
    "#Converting Area to Hundreds of Sq feet\n",
    "bangalore_df.Area = bangalore_df.Area/100\n",
    "delhi_df.Area = delhi_df.Area/100\n",
    "mumbai_df.Area = mumbai_df.Area/100"
   ]
  },
  {
   "cell_type": "code",
   "execution_count": null,
   "metadata": {
    "colab": {
     "base_uri": "https://localhost:8080/",
     "height": 386
    },
    "id": "A57rEIBuxycU",
    "outputId": "d2df9ac3-6afd-49f2-e325-e90b394b36f1"
   },
   "outputs": [],
   "source": [
    "bangalore_df.head()"
   ]
  },
  {
   "cell_type": "code",
   "execution_count": null,
   "metadata": {
    "colab": {
     "base_uri": "https://localhost:8080/",
     "height": 300
    },
    "id": "zTptsX9dy-DO",
    "outputId": "389c5079-7446-437e-ded8-85e6bd3d021d"
   },
   "outputs": [],
   "source": [
    "bangalore_df.describe()"
   ]
  },
  {
   "cell_type": "code",
   "execution_count": null,
   "metadata": {
    "colab": {
     "base_uri": "https://localhost:8080/",
     "height": 403
    },
    "id": "BbctXpM31Lft",
    "outputId": "3119cfc5-6a5a-4908-cc79-e3e7e234d304"
   },
   "outputs": [],
   "source": [
    "delhi_df.head()"
   ]
  },
  {
   "cell_type": "code",
   "execution_count": null,
   "metadata": {
    "colab": {
     "base_uri": "https://localhost:8080/",
     "height": 300
    },
    "id": "xmea1qSpyAOy",
    "outputId": "472cb7c8-0cd0-4ffd-bae7-3eada77f780e"
   },
   "outputs": [],
   "source": [
    "delhi_df.describe()"
   ]
  },
  {
   "cell_type": "code",
   "execution_count": null,
   "metadata": {
    "colab": {
     "base_uri": "https://localhost:8080/",
     "height": 317
    },
    "id": "IPekYOEJ1P7r",
    "outputId": "d753676a-945c-4fbd-e606-5aca7cc5a528"
   },
   "outputs": [],
   "source": [
    "mumbai_df.head()"
   ]
  },
  {
   "cell_type": "code",
   "execution_count": null,
   "metadata": {
    "colab": {
     "base_uri": "https://localhost:8080/",
     "height": 300
    },
    "id": "PcYli776x_rv",
    "outputId": "32e7311b-b2af-4d93-e330-fbffcb22163d"
   },
   "outputs": [],
   "source": [
    "mumbai_df.describe()"
   ]
  },
  {
   "cell_type": "markdown",
   "metadata": {
    "id": "tXWu4Sg-0axj"
   },
   "source": [
    "***"
   ]
  },
  {
   "cell_type": "markdown",
   "metadata": {
    "id": "SFvNGiDtyLGt"
   },
   "source": [
    "#### Plotting & Analysis"
   ]
  },
  {
   "cell_type": "markdown",
   "metadata": {
    "id": "dXmBPyzKyRfO"
   },
   "source": [
    "According the variables, we have figured out 2 different Categories for the Variables as <br>\n",
    "- `Important Amenities` like `Club House`,`Gym`,`SwimmingPool`,etc. <br>\n",
    "- `Furnishing` like `Sofa`,`Wardrobe`,`TV`,etc. So that we can analyze different categories and their impact on the Price."
   ]
  },
  {
   "cell_type": "code",
   "execution_count": null,
   "metadata": {
    "id": "7-QIyCWc32CE"
   },
   "outputs": [],
   "source": [
    "ImpAmenitiesColumns = ['Resale','Gymnasium','SwimmingPool','ClubHouse','School','24X7Security','PowerBackup','CarParking','Hospital']\n",
    "IAC = ImpAmenitiesColumns\n",
    "FurnishingColumns = ['DiningTable','Sofa','Wardrobe','Refrigerator','Microwave','TV','BED','AC','Wifi','Gasconnection']"
   ]
  },
  {
   "cell_type": "code",
   "execution_count": null,
   "metadata": {
    "id": "zNeWsv6TThD6"
   },
   "outputs": [],
   "source": [
    "b_df = bangalore_df\n",
    "m_df = mumbai_df\n",
    "d_df = delhi_df"
   ]
  },
  {
   "cell_type": "code",
   "execution_count": null,
   "metadata": {
    "id": "jlTDM0Ps93AG"
   },
   "outputs": [],
   "source": [
    "import itertools\n",
    "\n",
    "combinations = itertools.combinations(ImpAmenitiesColumns, 2)\n",
    "\n",
    "for c in combinations:\n",
    "  col_name = c[0] + \" & \" + c[1]\n",
    "  IAC.append(col_name)\n",
    "  b_df[col_name] = b_df.apply(lambda row: 'Yes' if row[c[0]] == 'Yes' and row[c[1]] == 'Yes' else 'No', axis=1)\n",
    "  m_df[col_name] = m_df.apply(lambda row: 'Yes' if row[c[0]] == 'Yes' and row[c[1]] == 'Yes' else 'No', axis=1)\n",
    "  d_df[col_name] = d_df.apply(lambda row: 'Yes' if row[c[0]] == 'Yes' and row[c[1]] == 'Yes' else 'No', axis=1)\n",
    "\n",
    "ImpAmenitiesColumns = IAC"
   ]
  },
  {
   "cell_type": "code",
   "execution_count": null,
   "metadata": {
    "id": "4Hn6pkRx31GP"
   },
   "outputs": [],
   "source": [
    "# Function for plotting Imp Amenities as HUE with Price and Area\n",
    "\n",
    "def ImpAmenitiesPlot(df):\n",
    "  fig, axes = plt.subplots(15,3, figsize=(18,54))\n",
    "  \n",
    "  col = 0\n",
    "  for i in range(15):\n",
    "    for j in range(3):\n",
    "      axes[i,j].set_title(\"Bedrooms-Price Plot with {} as Hue\".format(ImpAmenitiesColumns[col]))\n",
    "      sns.barplot(x='No. of Bedrooms',y='Price',hue=ImpAmenitiesColumns[col],data=df,ax=axes[i,j])\n",
    "      col += 1\n",
    "\n",
    "  plt.tight_layout(pad=3)"
   ]
  },
  {
   "cell_type": "code",
   "execution_count": null,
   "metadata": {
    "id": "a--Ww63SjSaA"
   },
   "outputs": [],
   "source": [
    "# Function for plotting Furnishing as HUE with Price and Area\n",
    "def FurnishingPlot(df):\n",
    "  fig, axes = plt.subplots(2,5, figsize=(25,10))\n",
    "\n",
    "  col = 0\n",
    "  for i in range(2):\n",
    "    for j in range(5):\n",
    "      axes[i,j].set_title(\"Bedrooms-Price Plot with {} as Hue\".format(FurnishingColumns[col]))\n",
    "      sns.barplot(x='No. of Bedrooms',y='Price',hue=FurnishingColumns[col],data=df,ax=axes[i,j])\n",
    "      col += 1\n",
    "\n",
    "  plt.tight_layout(pad=2)"
   ]
  },
  {
   "cell_type": "code",
   "execution_count": null,
   "metadata": {
    "id": "VQNr2vzGxycW"
   },
   "outputs": [],
   "source": [
    "# Function for plotting Line Plots of Price with Bedrooms & Area to analyse the trend\n",
    "def LinePlots(df):\n",
    "  fig,axes = plt.subplots(1,2, figsize=(18,4))\n",
    "  sns.lineplot(x='No. of Bedrooms',y='Price',data=df,ax=axes[0])\n",
    "  sns.lineplot(x='Area',y='Price',data=df,ax=axes[1])\n",
    "  plt.tight_layout(pad=3)"
   ]
  },
  {
   "cell_type": "code",
   "execution_count": null,
   "metadata": {
    "id": "FKHhsXkKxycZ"
   },
   "outputs": [],
   "source": [
    "# Function to Plot Distribution and Variation, to understand the Outliers and Statistical Distribution of Price\n",
    "def QuadPlot(df):\n",
    "  fig,axes = plt.subplots(2,2, figsize=(18,8))\n",
    "  sns.distplot(df['Price'],ax=axes[0,0])\n",
    "  sns.boxplot(df['Price'],ax=axes[0,1])\n",
    "  sns.scatterplot(x='No. of Bedrooms', y='Price', data=df, ax=axes[1,0])\n",
    "  sns.scatterplot(x='Area',y='Price', data=df,ax=axes[1,1])\n",
    "  plt.tight_layout(pad=3)"
   ]
  },
  {
   "cell_type": "markdown",
   "metadata": {
    "id": "S5XhE1j00eVQ"
   },
   "source": [
    "***"
   ]
  },
  {
   "cell_type": "markdown",
   "metadata": {
    "id": "v7NQKF9zjIsm"
   },
   "source": [
    "### **Bangalore**"
   ]
  },
  {
   "cell_type": "code",
   "execution_count": null,
   "metadata": {
    "colab": {
     "base_uri": "https://localhost:8080/",
     "height": 1000
    },
    "id": "sB_qQQHgi-K4",
    "outputId": "97c52ac0-739a-4cb0-9efa-a9c04c02bcf7"
   },
   "outputs": [],
   "source": [
    "ImpAmenitiesPlot(b_df)"
   ]
  },
  {
   "cell_type": "code",
   "execution_count": null,
   "metadata": {
    "colab": {
     "base_uri": "https://localhost:8080/",
     "height": 570
    },
    "id": "nUyGL8zSxycV",
    "outputId": "bf95a7cc-6d3f-4225-a3bc-3f9c82905bee"
   },
   "outputs": [],
   "source": [
    "FurnishingPlot(bangalore_df)"
   ]
  },
  {
   "cell_type": "code",
   "execution_count": null,
   "metadata": {
    "colab": {
     "base_uri": "https://localhost:8080/",
     "height": 291
    },
    "id": "u57_ng2Yjs2x",
    "outputId": "1f731109-0051-4081-c3bc-2aca7268c5c7"
   },
   "outputs": [],
   "source": [
    "LinePlots(bangalore_df)"
   ]
  },
  {
   "cell_type": "code",
   "execution_count": null,
   "metadata": {
    "colab": {
     "base_uri": "https://localhost:8080/",
     "height": 617
    },
    "id": "peKzBIJek95g",
    "outputId": "df384da6-655c-41d6-d5b6-a409f38c54e9"
   },
   "outputs": [],
   "source": [
    "QuadPlot(bangalore_df)"
   ]
  },
  {
   "cell_type": "markdown",
   "metadata": {
    "id": "nqev7Oyk0hWW"
   },
   "source": [
    "***"
   ]
  },
  {
   "cell_type": "markdown",
   "metadata": {
    "id": "_DEdzNVlzsml"
   },
   "source": [
    "### **Delhi**"
   ]
  },
  {
   "cell_type": "code",
   "execution_count": null,
   "metadata": {
    "colab": {
     "base_uri": "https://localhost:8080/",
     "height": 1000
    },
    "id": "BE4eIMbNz8QE",
    "outputId": "72096b85-fa05-4a96-a6f7-7cd54caf4679"
   },
   "outputs": [],
   "source": [
    "ImpAmenitiesPlot(delhi_df)"
   ]
  },
  {
   "cell_type": "code",
   "execution_count": null,
   "metadata": {
    "colab": {
     "base_uri": "https://localhost:8080/",
     "height": 570
    },
    "id": "3_7aX4xtz8GY",
    "outputId": "9bf94195-f5a0-480e-9586-fc978815609f"
   },
   "outputs": [],
   "source": [
    "FurnishingPlot(delhi_df)"
   ]
  },
  {
   "cell_type": "code",
   "execution_count": null,
   "metadata": {
    "colab": {
     "base_uri": "https://localhost:8080/",
     "height": 291
    },
    "id": "cghxHiBGz7tZ",
    "outputId": "3d972066-fce1-44f4-f543-091fa40f4705"
   },
   "outputs": [],
   "source": [
    "LinePlots(delhi_df)"
   ]
  },
  {
   "cell_type": "code",
   "execution_count": null,
   "metadata": {
    "colab": {
     "base_uri": "https://localhost:8080/",
     "height": 617
    },
    "id": "C_h4Xooaz7PW",
    "outputId": "cb4b56ab-d118-412d-bae8-04a845a018f6"
   },
   "outputs": [],
   "source": [
    "QuadPlot(delhi_df)"
   ]
  },
  {
   "cell_type": "markdown",
   "metadata": {
    "id": "ZWUKr6cz0iwq"
   },
   "source": [
    "***"
   ]
  },
  {
   "cell_type": "markdown",
   "metadata": {
    "id": "tusEUl9Bz2_F"
   },
   "source": [
    "### **Mumbai**"
   ]
  },
  {
   "cell_type": "code",
   "execution_count": null,
   "metadata": {
    "colab": {
     "base_uri": "https://localhost:8080/",
     "height": 1000
    },
    "id": "sG4vHo4zz-tz",
    "outputId": "c84fff5f-3ca7-4111-9fc2-33bffb33c9fc"
   },
   "outputs": [],
   "source": [
    "ImpAmenitiesPlot(mumbai_df)"
   ]
  },
  {
   "cell_type": "code",
   "execution_count": null,
   "metadata": {
    "colab": {
     "base_uri": "https://localhost:8080/",
     "height": 570
    },
    "id": "H3v6lL-rz-kf",
    "outputId": "ed9cf284-7d4e-4ad6-d8eb-c8b19d6cfbe6"
   },
   "outputs": [],
   "source": [
    "FurnishingPlot(mumbai_df)"
   ]
  },
  {
   "cell_type": "code",
   "execution_count": null,
   "metadata": {
    "colab": {
     "base_uri": "https://localhost:8080/",
     "height": 291
    },
    "id": "4R9GgiuEz-bU",
    "outputId": "09d78690-c0ae-435e-e164-9f14b9ec9e23"
   },
   "outputs": [],
   "source": [
    "LinePlots(mumbai_df)"
   ]
  },
  {
   "cell_type": "code",
   "execution_count": null,
   "metadata": {
    "colab": {
     "base_uri": "https://localhost:8080/",
     "height": 617
    },
    "id": "7E-G9L4Rz9ns",
    "outputId": "38061c0e-4a8d-4d2b-f552-fe856c13a933"
   },
   "outputs": [],
   "source": [
    "QuadPlot(mumbai_df)"
   ]
  },
  {
   "cell_type": "markdown",
   "metadata": {
    "id": "AzTNb2eU18_i"
   },
   "source": [
    "From `BoxPlots` & `ScatterPlots` of all 3 Cities, it is clearly visible that there are some Outliers in `Price`, having very high Prices of some Houses for high values of `Area` and `No. of bedrooms`, so let's look at this point in more detailed way(Statistically)."
   ]
  },
  {
   "cell_type": "markdown",
   "metadata": {
    "id": "9F7iukYs0lH4"
   },
   "source": [
    "***"
   ]
  },
  {
   "cell_type": "code",
   "execution_count": null,
   "metadata": {
    "colab": {
     "base_uri": "https://localhost:8080/",
     "height": 300
    },
    "id": "9Pp1JY7Y_c_k",
    "outputId": "971de8f3-3d30-43d3-9dba-7054b396a2f9"
   },
   "outputs": [],
   "source": [
    "bangalore_df.loc[(bangalore_df['Price']>1000) | (bangalore_df['Area']>60),['Price','Area','No. of Bedrooms']]"
   ]
  },
  {
   "cell_type": "code",
   "execution_count": null,
   "metadata": {
    "colab": {
     "base_uri": "https://localhost:8080/",
     "height": 143
    },
    "id": "pxj21ylb2B45",
    "outputId": "1a33af79-d2ff-4e65-82f0-9a8bb0d768c0"
   },
   "outputs": [],
   "source": [
    "delhi_df.loc[(delhi_df['Price']>1000) | (delhi_df['Area']>60),['Price','Area','No. of Bedrooms']]"
   ]
  },
  {
   "cell_type": "code",
   "execution_count": null,
   "metadata": {
    "colab": {
     "base_uri": "https://localhost:8080/",
     "height": 519
    },
    "id": "jnj2-f-M2Fsd",
    "outputId": "915c923a-cf06-4146-d1fb-5f37f17c6f65"
   },
   "outputs": [],
   "source": [
    "mumbai_df.loc[(mumbai_df['Price']>1000) | (mumbai_df['Area']>60),['Price','Area','No. of Bedrooms']]"
   ]
  },
  {
   "cell_type": "markdown",
   "metadata": {
    "id": "sD6ItsvO6f3H"
   },
   "source": [
    "According to the data, reasons for Outliers are if Houses having,<br>\n",
    "- <code>`Area`>6000 sq.ft.</code>\n",
    "- <code>`No. of Bedrooms`= 4,5,6</code>"
   ]
  },
  {
   "cell_type": "markdown",
   "metadata": {
    "id": "Uwr-1KLC9zE9"
   },
   "source": [
    "##Correlation Graph"
   ]
  },
  {
   "cell_type": "markdown",
   "metadata": {
    "id": "_kri8poq6fjM"
   },
   "source": [
    "***"
   ]
  },
  {
   "cell_type": "code",
   "execution_count": null,
   "metadata": {
    "colab": {
     "base_uri": "https://localhost:8080/",
     "height": 616
    },
    "id": "qHS7alk-AZDs",
    "outputId": "2254dc66-ba8b-4080-fc09-a95faf4af9ad"
   },
   "outputs": [],
   "source": [
    "ResaleBLR = bangalore_df[bangalore_df.Resale=='Yes']\n",
    "ResaleDEL = delhi_df[delhi_df.Resale=='Yes']\n",
    "ResaleMUM = mumbai_df[mumbai_df.Resale=='Yes']\n",
    "\n",
    "fig,axes = plt.subplots(1,3,figsize=(18,8))\n",
    "axes[0].set_title('Bangalore Resale Houses')\n",
    "sns.countplot(y='Location',data=ResaleBLR,order=ResaleBLR.Location.value_counts().index[:10],ax=axes[0])\n",
    "axes[1].set_title('Delhi Resale Houses')\n",
    "sns.countplot(y='Location',data=ResaleDEL,order=ResaleDEL.Location.value_counts().index[:10],ax=axes[1])\n",
    "axes[2].set_title('Mumbai Resale Houses')\n",
    "sns.countplot(y='Location',data=ResaleMUM,order=ResaleMUM.Location.value_counts().index[:10],ax=axes[2])\n",
    "plt.tight_layout(pad=3)\n",
    "plt.show()"
   ]
  },
  {
   "cell_type": "markdown",
   "metadata": {
    "id": "YQnBS_lm7caW"
   },
   "source": [
    "Above are the regions having high number of **Resale** houses"
   ]
  },
  {
   "cell_type": "code",
   "execution_count": null,
   "metadata": {
    "colab": {
     "base_uri": "https://localhost:8080/",
     "height": 617
    },
    "id": "6YxfpN7qBP4e",
    "outputId": "fe4941ff-1b81-4c50-f3b3-5e98ef149685"
   },
   "outputs": [],
   "source": [
    "FreshBLR = bangalore_df[bangalore_df.Resale=='No']\n",
    "FreshDEL = delhi_df[delhi_df.Resale=='No']\n",
    "FreshMUM = mumbai_df[mumbai_df.Resale=='No']\n",
    "\n",
    "fig,axes = plt.subplots(1,3,figsize=(18,8))\n",
    "axes[0].set_title('Bangalore Resale Houses')\n",
    "sns.countplot(y='Location',data=FreshBLR,order=FreshBLR.Location.value_counts().index[:10],ax=axes[0])\n",
    "axes[1].set_title('Delhi Resale Houses')\n",
    "sns.countplot(y='Location',data=FreshDEL,order=FreshDEL.Location.value_counts().index[:10],ax=axes[1])\n",
    "axes[2].set_title('Mumbai Resale Houses')\n",
    "sns.countplot(y='Location',data=FreshMUM,order=FreshMUM.Location.value_counts().index[:10],ax=axes[2])\n",
    "plt.tight_layout(pad=3)\n",
    "plt.show()"
   ]
  },
  {
   "cell_type": "markdown",
   "metadata": {
    "id": "ow3JIYN07N_3"
   },
   "source": [
    "Above are the regions having high number of **Fresh** houses"
   ]
  },
  {
   "cell_type": "markdown",
   "metadata": {
    "id": "r9bX1Y447NtF"
   },
   "source": [
    "***"
   ]
  },
  {
   "cell_type": "markdown",
   "metadata": {
    "id": "phD1y6VZBqWv"
   },
   "source": [
    "### More Data Visulazation of the given attribute\n",
    "\n"
   ]
  },
  {
   "cell_type": "code",
   "execution_count": null,
   "metadata": {
    "id": "XFqE1dC9BxX3"
   },
   "outputs": [],
   "source": [
    "# Function to Plot Distribution and Variation, to understand the Outliers and Statistical Distribution of Price\n",
    "def QuadPlot(df):\n",
    "  fig,axes = plt.subplots(2,2, figsize=(18,8))\n",
    "  sns.distplot(df['Price'],ax=axes[0,0])\n",
    "  sns.boxplot(df['Price'],ax=axes[0,1])\n",
    "  sns.scatterplot(x='No. of Bedrooms', y='Price', data=df, ax=axes[1,0])\n",
    "  sns.scatterplot(x='Area',y='Price', data=df,ax=axes[1,1])\n",
    "  plt.tight_layout(pad=3)"
   ]
  },
  {
   "cell_type": "markdown",
   "metadata": {
    "id": "qKh0eKEeNBpl"
   },
   "source": [
    "### Plotting Houses on Map in each City\n"
   ]
  },
  {
   "cell_type": "code",
   "execution_count": null,
   "metadata": {
    "id": "Xi8tAd7gG-Vj"
   },
   "outputs": [],
   "source": [
    "def getCoordinates(Location,City):\n",
    "  loc = Location+\", \"+City\n",
    "  print(loc)\n",
    "  geolocator = Nominatim(user_agent='EkansH',timeout=3)\n",
    "  geo_loc = geolocator.geocode(loc)\n",
    "\n",
    "  try:\n",
    "    coordinates = {'lat':geo_loc.latitude,'lon':geo_loc.longitude}\n",
    "  except AttributeError:\n",
    "    coordinates = {'lat':np.nan,'lon':np.nan}\n",
    "\n",
    "  return coordinates['lat'], coordinates['lon']"
   ]
  },
  {
   "cell_type": "code",
   "execution_count": null,
   "metadata": {
    "colab": {
     "base_uri": "https://localhost:8080/"
    },
    "id": "Rjmnhc-iIi9G",
    "outputId": "a03f8f46-c080-474a-fcd2-417687c04c62"
   },
   "outputs": [],
   "source": [
    "bangalore_df['latitude'],bangalore_df['longitude'] = np.vectorize(getCoordinates)(bangalore_df.Location,'Bangalore')\n",
    "delhi_df['latitude'],delhi_df['longitude'] = np.vectorize(getCoordinates)(delhi_df.Location,'Delhi')\n",
    "mumbai_df['latitude'],mumbai_df['longitude'] = np.vectorize(getCoordinates)(mumbai_df.Location,'Mumbai')"
   ]
  },
  {
   "cell_type": "code",
   "execution_count": null,
   "metadata": {
    "id": "F5hHTCo9HKWX"
   },
   "outputs": [],
   "source": [
    "bangalore_df.to_csv(\"/content/gdrive/My Drive/Projects/IndianHousingPrices/Data/bangalore_updated.csv\", encoding=\"utf-8\", index=False)\n",
    "delhi_df.to_csv(\"/content/gdrive/My Drive/Projects/IndianHousingPrices/Data/delhi_updated.csv\", encoding=\"utf-8\", index=False)\n",
    "mumbai_df.to_csv(\"/content/gdrive/My Drive/Projects/IndianHousingPrices/mumbai_updated.csv\", encoding=\"utf-8\", index=False)"
   ]
  },
  {
   "cell_type": "code",
   "execution_count": null,
   "metadata": {
    "id": "6UHnpxLr7tBl"
   },
   "outputs": [],
   "source": [
    "bangalore = pd.read_csv(\"/content/gdrive/My Drive/Projects/IndianHousingPrices/Data/bangalore_updated.csv\")\n",
    "delhi = delhi_df.copy(\"/content/gdrive/My Drive/Projects/IndianHousingPrices/Data/delhi_updated.csv\")\n",
    "mumbai = mumbai_df.copy(\"/content/gdrive/My Drive/Projects/IndianHousingPrices/Data/delhi_updated.csv\")"
   ]
  },
  {
   "cell_type": "code",
   "execution_count": null,
   "metadata": {
    "colab": {
     "base_uri": "https://localhost:8080/",
     "height": 403
    },
    "id": "KHgsp29iKkUM",
    "outputId": "00e52b74-10d2-415c-c03b-52dee1394915"
   },
   "outputs": [],
   "source": [
    "bangalore.head()"
   ]
  },
  {
   "cell_type": "code",
   "execution_count": null,
   "metadata": {
    "colab": {
     "base_uri": "https://localhost:8080/",
     "height": 421
    },
    "id": "GLX31-kB32CJ",
    "outputId": "d8f99b98-5960-49d9-b074-9e3f9b10a091"
   },
   "outputs": [],
   "source": [
    "delhi.head()"
   ]
  },
  {
   "cell_type": "code",
   "execution_count": null,
   "metadata": {
    "colab": {
     "base_uri": "https://localhost:8080/",
     "height": 334
    },
    "id": "eiWr6tgH31eu",
    "outputId": "1c699003-882e-4bd4-8eee-e3703090a495"
   },
   "outputs": [],
   "source": [
    "mumbai.head()"
   ]
  },
  {
   "cell_type": "code",
   "execution_count": null,
   "metadata": {
    "colab": {
     "base_uri": "https://localhost:8080/"
    },
    "id": "g2lyR-v2vScs",
    "outputId": "6c997029-677a-42fd-cc6a-0db02099a969"
   },
   "outputs": [],
   "source": [
    "geolocator = Nominatim(user_agent='EkansH',timeout=3)\n",
    "geo_loc = geolocator.geocode('Bangalore')\n",
    "blr_coordinates = (geo_loc.latitude,geo_loc.longitude)\n",
    "print(\"Bangalore - lat:{},lon:{}\".format(geo_loc.latitude,geo_loc.longitude))"
   ]
  },
  {
   "cell_type": "code",
   "execution_count": null,
   "metadata": {
    "colab": {
     "base_uri": "https://localhost:8080/"
    },
    "id": "Z4qOF8eJ3-Nc",
    "outputId": "ef458275-701e-45c4-98aa-91b590acffb1"
   },
   "outputs": [],
   "source": [
    "geolocator = Nominatim(user_agent='EkansH',timeout=3)\n",
    "geo_loc = geolocator.geocode('Delhi')\n",
    "del_coordinates = (geo_loc.latitude,geo_loc.longitude)\n",
    "print(\"Delhi - lat:{},lon:{}\".format(geo_loc.latitude,geo_loc.longitude))"
   ]
  },
  {
   "cell_type": "code",
   "execution_count": null,
   "metadata": {
    "colab": {
     "base_uri": "https://localhost:8080/"
    },
    "id": "JfjEj3xf3959",
    "outputId": "79131aff-ce13-4722-a993-ee6a018c2a47"
   },
   "outputs": [],
   "source": [
    "geolocator = Nominatim(user_agent='EkansH',timeout=3)\n",
    "geo_loc = geolocator.geocode('Mumbai')\n",
    "mum_coordinates = (geo_loc.latitude,geo_loc.longitude)\n",
    "print(\"Mumbai - lat:{},lon:{}\".format(geo_loc.latitude,geo_loc.longitude))"
   ]
  },
  {
   "cell_type": "code",
   "execution_count": null,
   "metadata": {
    "colab": {
     "base_uri": "https://localhost:8080/",
     "height": 869
    },
    "id": "aJAxdt8kz8PO",
    "outputId": "7ef1282f-4863-417d-8721-afab42ad781a"
   },
   "outputs": [],
   "source": [
    "bangalore[bangalore['latitude'].isna()]"
   ]
  },
  {
   "cell_type": "code",
   "execution_count": null,
   "metadata": {
    "colab": {
     "base_uri": "https://localhost:8080/",
     "height": 1000
    },
    "id": "h1PT56yi4LaN",
    "outputId": "d8f342c0-7449-4df0-fc95-92373c70a05a"
   },
   "outputs": [],
   "source": [
    "delhi[delhi['latitude'].isna()]"
   ]
  },
  {
   "cell_type": "code",
   "execution_count": null,
   "metadata": {
    "colab": {
     "base_uri": "https://localhost:8080/",
     "height": 730
    },
    "id": "FJs-GS9p4LGN",
    "outputId": "331530c3-05b8-4685-da35-52dff5b2fb28"
   },
   "outputs": [],
   "source": [
    "mumbai[mumbai['latitude'].isna()]"
   ]
  },
  {
   "cell_type": "code",
   "execution_count": null,
   "metadata": {
    "id": "DwX-5Y2I0SnK"
   },
   "outputs": [],
   "source": [
    "bangalore.dropna(axis=0, inplace=True)\n",
    "delhi.dropna(axis=0, inplace=True)\n",
    "mumbai.dropna(axis=0, inplace=True)"
   ]
  },
  {
   "cell_type": "code",
   "execution_count": null,
   "metadata": {
    "id": "-SI2MHVJyDqm"
   },
   "outputs": [],
   "source": [
    "# Function to generate Map of each City to identify the regions where Houses are present\n",
    "def GenerateMap(df,coordinates):\n",
    "  map = folium.Map(location=coordinates, zoom_start=10)\n",
    "  HouseCluster = folium.plugins.MarkerCluster().add_to(map)\n",
    "  for idx,row in df.iterrows():\n",
    "    folium.Marker([row.latitude,row.longitude],popup=str(row['Price'])+' Lacs').add_to(HouseCluster)\n",
    "  return map"
   ]
  },
  {
   "cell_type": "code",
   "execution_count": null,
   "metadata": {
    "colab": {
     "base_uri": "https://localhost:8080/",
     "height": 866
    },
    "id": "nGCHoHXs00m3",
    "outputId": "35f0a47c-1771-4c31-c11f-ad0e3c96702d"
   },
   "outputs": [],
   "source": [
    "GenerateMap(bangalore,blr_coordinates)"
   ]
  },
  {
   "cell_type": "code",
   "execution_count": null,
   "metadata": {
    "colab": {
     "base_uri": "https://localhost:8080/",
     "height": 866
    },
    "id": "mpcuc1j95fEw",
    "outputId": "84dfdf72-d27d-47d4-f0c8-88313d8ca97e"
   },
   "outputs": [],
   "source": [
    "GenerateMap(delhi,del_coordinates)"
   ]
  },
  {
   "cell_type": "code",
   "execution_count": null,
   "metadata": {
    "colab": {
     "base_uri": "https://localhost:8080/",
     "height": 866
    },
    "id": "tY1QmWo35e2p",
    "outputId": "abcdbc77-7d0c-4385-abad-23e9e47cfd9e"
   },
   "outputs": [],
   "source": [
    "GenerateMap(mumbai,mum_coordinates)"
   ]
  },
  {
   "cell_type": "markdown",
   "metadata": {
    "id": "bUMk2kKvNQpT"
   },
   "source": [
    "***"
   ]
  },
  {
   "cell_type": "markdown",
   "metadata": {
    "id": "-DtZOoHqNS0Y"
   },
   "source": [
    "## Final Conclusion of the Analysis"
   ]
  },
  {
   "cell_type": "markdown",
   "metadata": {
    "id": "Zzry1klbz7Ki"
   },
   "source": [
    "As per the Data provided, we categorized variables in 2 different Categories,\n",
    "- `Import Amenities`, like Hospitals, Gym, Swimming Pool, etc. which tells that whether Houses have these amenities nearby.\n",
    "- `Furnishing`, like Wardrobe, AC, TV, etc. which tells that whether the House is provided by these Furnishings, whether the House is Fully furnished or Non Furnished.\n",
    "\n"
   ]
  },
  {
   "cell_type": "markdown",
   "metadata": {
    "id": "GwQcrtBr5vQh"
   },
   "source": [
    "**Important Amenities:-**\n",
    "- Resale variable has some serious impact over Price, if House is on Resale then the Price will be low as compared to Fresh House.\n",
    "- Similarly, Gym, ClubHouse, 24X7Security, PowerBackup, CarParking, also positively impact the Price.\n",
    "- Unlikely, Swimming Pool, School, Hospital impacting the Price in a Negative manner, which means that if these Amenities are not situated nearby to the Property, then its price will be Higher comparatively, which means that Houses are in Outskirts of the City, as far distant from Hospitals, Schools.\n",
    "\n",
    "**Furnishing:-**\n",
    "- In Furnishing Category, there is a strange trend that 1,2 or 3 Bedrooms Houses have Higher Prices which are Furnished in a way, like AC, TV, Wardrobe, etc. are provided. But as you go towards 4 or 5 Bedroom House, their Prices are higher if these Furnitures are not provided.\n",
    "\n",
    "- As the No. of Bedrooms and Area of House, their Prices goes on increasing.\n",
    "\n",
    "According to BoxPlot & ScatterPlot, there are Outliers in the Prices for 4 or 5 Bedrooms and House Area more then 6000sq.ft.\n",
    "\n",
    "**Conclusion Statement:** <br>\n",
    "*Fresh Houses in Outskirts of the City, having Important Amenities like, Gym, Clubhouse, 24X7Security, PowerBackup, CarParking and not having Nearby Hospitals & Schools are more expensive.*\n",
    "*Also if a Family is planning to Purchase a 4 or 5 Bedroom House, then they might have their own furnitures, due to which they want Houses Non-Furnished, and Unfurnished Houses are expensive.*\n",
    "*Alternatively, if a small family or bachelors are planning to purchase a House then they require Furnished Houses.*\n",
    "*Anyone who is eligible to spend more money to purchase a house, they will get more number of bedrooms and more area, and vice-versa.*"
   ]
  }
 ],
 "metadata": {
  "accelerator": "GPU",
  "colab": {
   "provenance": []
  },
  "gpuClass": "standard",
  "kernelspec": {
   "display_name": "Python 3 (ipykernel)",
   "language": "python",
   "name": "python3"
  },
  "language_info": {
   "codemirror_mode": {
    "name": "ipython",
    "version": 3
   },
   "file_extension": ".py",
   "mimetype": "text/x-python",
   "name": "python",
   "nbconvert_exporter": "python",
   "pygments_lexer": "ipython3",
   "version": "3.9.7"
  }
 },
 "nbformat": 4,
 "nbformat_minor": 1
}
